{
 "cells": [
  {
   "cell_type": "markdown",
   "metadata": {
    "deletable": true,
    "editable": true
   },
   "source": [
    "# Publications markdown generator for academicpages\n",
    "\n",
    "Takes a TSV of publications with metadata and converts them for use with [academicpages.github.io](academicpages.github.io). This is an interactive Jupyter notebook ([see more info here](http://jupyter-notebook-beginner-guide.readthedocs.io/en/latest/what_is_jupyter.html)). The core python code is also in `publications.py`. Run either from the `markdown_generator` folder after replacing `publications.tsv` with one containing your data.\n",
    "\n",
    "TODO: Make this work with BibTex and other databases of citations, rather than Stuart's non-standard TSV format and citation style.\n"
   ]
  },
  {
   "cell_type": "markdown",
   "metadata": {},
   "source": [
    "## Data format\n",
    "\n",
    "The TSV needs to have the following columns: pub_date, title, venue, excerpt, citation, site_url, and paper_url, with a header at the top. \n",
    "\n",
    "- `excerpt` and `paper_url` can be blank, but the others must have values. \n",
    "- `pub_date` must be formatted as YYYY-MM-DD.\n",
    "- `url_slug` will be the descriptive part of the .md file and the permalink URL for the page about the paper. The .md file will be `YYYY-MM-DD-[url_slug].md` and the permalink will be `https://[yourdomain]/publications/YYYY-MM-DD-[url_slug]`\n",
    "\n",
    "This is how the raw file looks (it doesn't look pretty, use a spreadsheet or other program to edit and create)."
   ]
  },
  {
   "cell_type": "code",
   "execution_count": 6,
   "metadata": {
    "collapsed": false
   },
   "outputs": [
    {
     "name": "stdout",
     "output_type": "stream",
     "text": [
      "pub_date\ttitle\tvenue\texcerpt\tcitation\turl_slug\tpaper_url\n",
      "2023-09-16\tOn the dispersion dynamics of liquid-liquid surfactant-laden flows in a SMX static mixer\tChemical Engineering Journal\t \tValdes, J.P., Kahouadji, L., Liang, F., Shin, S., Chergui, J., Juric, D., and Matar, O.K.  (2023). \"On the dispersion dynamics of liquid-liquid surfactant-laden flows in a SMX static mixer.\" <i>Chem. Eng. J.</i>. 475.\thttps://doi.org/10.1016/j.cej.2023.146058\t\n",
      "2023-03-09\tNumerical Simulation of surfactant-laden emulsion formation in an un-baffled stirred vessel\tChemical Engineering Journal\t \tLiang, F., Kahouadji, L., Valdes, J.P., Shin, S., Chergui, J., Juric, D., and Matar, O.K.  (2023). \"Numerical Simulation of surfactant-laden emulsion formation in an un-baffled stirred vessel.\" <i>Chem. Eng. J.</i>. 472.\thttps://doi.org/10.1016/j.cej.2023.144807\t\n",
      "2023-03-05\tDirect numerical simulations of liquid-liquid dispersions in a SMX static mixer under different inlet conditions\tChemical Engineering Journal\t \tValdes, J.P., Kahouadji, L., Liang, F., Shin, S., Chergui, J., Juric, D., and Matar, O.K.  (2023). \"Direct numerical simulations of liquid-liquid dispersions in a SMX static mixer under different inlet conditions.\" <i>Chem. Eng. J.</i>. 462.\thttps://doi.org/10.1016/j.cej.2023.142248\t\n",
      "2022-09-29\tNumerical Study of oil-water emulsion formation in stirred vessels: effect of impeller speed\tFlow\t \tLiang, F., Kahouadji, L., Valdes, J.P., Shin, S., Chergui, J., Juric, D., and Matar, O.K.  (2022). \"Numerical Study of oil-water emulsion formation in stirred vessels: effect of impeller speed.\" <i>Flow</i>. 2E34.\thttps://doi.org/10.1017/flo.2022.27\t\n",
      "2022-08-22\tThe transition to aeration in turbulent two-phase mixing in stirred vessels\tFlow\t \tKahouadji, L., Liang, F., Valdes, J.P., Shin, S., Chergui, J., Juric, D., Craster, R., and Matar, O.K.  (2022). \"The transition to aeration in turbulent two-phase mixing in stirred vessels.\" <i>Flow</i>. 2E30.\thttps://doi.org/10.1017/flo.2022.24\t\n",
      "2021-11-19\tCurrent advances in liquid-liquid mixing in static mixers: A review\tChemical Engineering Research & Design\t \tValdes, J.P., Kahouadji, L., and Matar, O.K.  (2021). \"Current advances in liquid-liquid mixing in static mixers: A review.\" <i>ChERD</i>. 177.\thttps://doi.org/10.1016/j.cherd.2021.11.016\t\n",
      "2020-12-30\tCFD modelling of the air conditioning system for a Tier 2 Data Centre\tAdvances in Building Energy Research\t \tPico, P., Valdes, J.P., Pinilla, A., Echeverri, A., Gomez, J., Ratkovich, N., and Cifuentes, B.  (2020). \"CFD modelling of the air conditioning system for a Tier 2 Data Centre.\" <i>Adv. Build. Energy Res. </i>. 16(2).\thttps://doi.org/10.1080/17512549.2020.1860818\t\n",
      "2020-12-07\tStudy of an ESP's performance handling liquid-liquid flow and unstable O-W emulsions part II: Coupled CFD-PBM modelling\tJournal of Petroleum Science & Engineering\t \tValdes, J.P., Asuaje, M., and Ratkovich, N.  (2020). \"Study of an ESP's performance handling liquid-liquid flow and unstable O-W emulsions part II: Coupled CFD-PBM modelling.\" <i>J. Pet. Sci. Eng. </i>. 198.\thttps://doi.org/10.1016/j.petrol.2020.108227\t\n",
      "2020-08-28\tComparison of 63 different void fraction correlations for different flow patterns, pipe inclinations and liquid viscosities\tSN Applied Sciences\t \tMarquez-Torres, L., Ochoa-Pineda, J., Pico, P., Valdes, J.P., Becerra, D., Pinilla, A., Pereyra, E., and Ratkovich, N.  (2020). \"Comparison of 63 different void fraction correlations for different flow patterns, pipe inclinations and liquid viscosities.\" <i>SN Appl. Sci. </i>. 2:1695.\thttps://doi.org/10.1007/s42452-020-03464-w\t\n",
      "2020-05-12\tCFD modelling of the hydrodynamics in a filtration unit with rotating membranes\tJournal of Water Process Engineering\t \tPinilla, A., Berrio, J.C., Guerrero, E., Valdes, J.P., Becerra, D., Pico, P., Vargas, L., Madsen, S., Bentzen, T.R., and Ratkovich, N.  (2020). \"CFD modelling of the hydrodynamics in a filtration unit with rotating membranes.\" <i>J. Water Process Eng. </i>. 36.\thttps://doi.org/10.1016/j.jwpe.2020.101368\t\n",
      "2020-04-18\tStudy of an ESP's performance handling liquid-liquid flow and unstable O-W emulsions part I: Experimental\tChemical Engineering Science\t \tValdes, J.P., Asuaje, M., and Ratkovich, N.  (2020). \"Study of an ESP's performance handling liquid-liquid flow and unstable O-W emulsions part I: Experimental.\" <i>Chem. Eng. Sci. </i>. 223.\thttps://doi.org/10.1016/j.ces.2020.115726\t\n",
      "2020-02-03\tEvaluation of drift-velocity closure relationships for highly viscous liquid-air slug flow in horizontal pipes through 3D CFD modelling\tChemical Engineering Science\t \tValdes, J.P., Pico, P., Pereyra, E., and Ratkovich, N.  (2020). \"Evaluation of drift-velocity closure relationships for highly viscous liquid-air slug flow in horizontal pipes through 3D CFD modelling.\" <i>Chem. Eng. Sci. </i>. 217.\thttps://doi.org/10.1016/j.ces.2020.115537\t\n",
      "2019-11-27\tComparative analysis of an electrical submersible pump's performance handling viscous Newtonian and non-Newtonian fluids through experimental and CFD approaches\tJournal of Petroleum Science & Engineering\t \tValdes, J.P., Becerra, D., Rozo, D., Cediel, A., Torres, F., Asuaje, M., and Ratkovich, N.  (2019). \"Comparative analysis of an electrical submersible pump's performance handling viscous Newtonian and non-Newtonian fluids through experimental and CFD approaches.\" <i>J. Pet. Sci. Eng. </i>. 187.\thttps://doi.org/10.1016/j.petrol.2019.106749\t\n",
      "2019-07-01\tPhase Inversion Correlations Analysis for Oil-Water Flow in Horizontal Pipes\tIndustrial & Engineering Chemistry Research\t \tPrieto, L., Pinilla, A., Becerra, D., Pico, P., Valdes, J.P., Pereyra, E., and Ratkovich, N.  (2019). \"Phase Inversion Correlations Analysis for Oil-Water Flow in Horizontal Pipes.\" <i>Ind. Eng. Chem. Res. </i>. 58.\thttps://doi.org/10.1021/acs.iecr.9b01773\t\n",
      "2019-02-07\tApplying PBL methodologies to the chemical engineering courses: Unit operations and modeling and simulation, using a joint course project\tEducation for Chemical Engineers\t \tBallesteros, M.A., Daza, M.A., Valdes, J.P., Ratkovich, N., and Reyes, L.H.  (2019). \"Applying PBL methodologies to the chemical engineering courses: Unit operations and modeling and simulation, using a joint course project.\" <i>Educ. Chem. Eng. </i>. 27.\thttps://doi.org/10.1016/j.ece.2019.01.005\t\n",
      "2018-10-01\tAnalysis of the Drift Flux in Two-Phase Gas-Liquid Slug Flow along Horizontal and Inclined Pipelines through Experimental (Non) Newtonian and CFD Newtonian approaches\tJournal of Fluid Flow, Heat and Mass Transfer\t \tPico, P., Valdes, J.P., Ratkovich, N., and Pereyra, E.  (2018). \"Analysis of the Drift Flux in Two-Phase Gas-Liquid Slug Flow along Horizontal and Inclined Pipelines through Experimental (Non) Newtonian and CFD Newtonian approaches.\" <i>JFFHMT </i>. 5.\thttps://doi.org/10.11159/jffhmt.2018.006\t\n",
      "\n"
     ]
    }
   ],
   "source": [
    "!cat publications.tsv"
   ]
  },
  {
   "cell_type": "markdown",
   "metadata": {},
   "source": [
    "## Import pandas\n",
    "\n",
    "We are using the very handy pandas library for dataframes."
   ]
  },
  {
   "cell_type": "code",
   "execution_count": 2,
   "metadata": {
    "collapsed": true,
    "deletable": true,
    "editable": true
   },
   "outputs": [],
   "source": [
    "import pandas as pd"
   ]
  },
  {
   "cell_type": "markdown",
   "metadata": {},
   "source": [
    "## Import TSV\n",
    "\n",
    "Pandas makes this easy with the read_csv function. We are using a TSV, so we specify the separator as a tab, or `\\t`.\n",
    "\n",
    "I found it important to put this data in a tab-separated values format, because there are a lot of commas in this kind of data and comma-separated values can get messed up. However, you can modify the import statement, as pandas also has read_excel(), read_json(), and others."
   ]
  },
  {
   "cell_type": "code",
   "execution_count": 7,
   "metadata": {
    "collapsed": false,
    "deletable": true,
    "editable": true
   },
   "outputs": [
    {
     "data": {
      "text/html": [
       "<div>\n",
       "<style scoped>\n",
       "    .dataframe tbody tr th:only-of-type {\n",
       "        vertical-align: middle;\n",
       "    }\n",
       "\n",
       "    .dataframe tbody tr th {\n",
       "        vertical-align: top;\n",
       "    }\n",
       "\n",
       "    .dataframe thead th {\n",
       "        text-align: right;\n",
       "    }\n",
       "</style>\n",
       "<table border=\"1\" class=\"dataframe\">\n",
       "  <thead>\n",
       "    <tr style=\"text-align: right;\">\n",
       "      <th></th>\n",
       "      <th>pub_date</th>\n",
       "      <th>title</th>\n",
       "      <th>venue</th>\n",
       "      <th>excerpt</th>\n",
       "      <th>citation</th>\n",
       "      <th>url_slug</th>\n",
       "      <th>paper_url</th>\n",
       "    </tr>\n",
       "  </thead>\n",
       "  <tbody>\n",
       "    <tr>\n",
       "      <th>0</th>\n",
       "      <td>2023-09-16</td>\n",
       "      <td>On the dispersion dynamics of liquid-liquid su...</td>\n",
       "      <td>Chemical Engineering Journal</td>\n",
       "      <td></td>\n",
       "      <td>Valdes, J.P., Kahouadji, L., Liang, F., Shin, ...</td>\n",
       "      <td>https://doi.org/10.1016/j.cej.2023.146058</td>\n",
       "      <td>NaN</td>\n",
       "    </tr>\n",
       "    <tr>\n",
       "      <th>1</th>\n",
       "      <td>2023-03-09</td>\n",
       "      <td>Numerical Simulation of surfactant-laden emuls...</td>\n",
       "      <td>Chemical Engineering Journal</td>\n",
       "      <td></td>\n",
       "      <td>Liang, F., Kahouadji, L., Valdes, J.P., Shin, ...</td>\n",
       "      <td>https://doi.org/10.1016/j.cej.2023.144807</td>\n",
       "      <td>NaN</td>\n",
       "    </tr>\n",
       "    <tr>\n",
       "      <th>2</th>\n",
       "      <td>2023-03-05</td>\n",
       "      <td>Direct numerical simulations of liquid-liquid ...</td>\n",
       "      <td>Chemical Engineering Journal</td>\n",
       "      <td></td>\n",
       "      <td>Valdes, J.P., Kahouadji, L., Liang, F., Shin, ...</td>\n",
       "      <td>https://doi.org/10.1016/j.cej.2023.142248</td>\n",
       "      <td>NaN</td>\n",
       "    </tr>\n",
       "    <tr>\n",
       "      <th>3</th>\n",
       "      <td>2022-09-29</td>\n",
       "      <td>Numerical Study of oil-water emulsion formatio...</td>\n",
       "      <td>Flow</td>\n",
       "      <td></td>\n",
       "      <td>Liang, F., Kahouadji, L., Valdes, J.P., Shin, ...</td>\n",
       "      <td>https://doi.org/10.1017/flo.2022.27</td>\n",
       "      <td>NaN</td>\n",
       "    </tr>\n",
       "    <tr>\n",
       "      <th>4</th>\n",
       "      <td>2022-08-22</td>\n",
       "      <td>The transition to aeration in turbulent two-ph...</td>\n",
       "      <td>Flow</td>\n",
       "      <td></td>\n",
       "      <td>Kahouadji, L., Liang, F., Valdes, J.P., Shin, ...</td>\n",
       "      <td>https://doi.org/10.1017/flo.2022.24</td>\n",
       "      <td>NaN</td>\n",
       "    </tr>\n",
       "    <tr>\n",
       "      <th>5</th>\n",
       "      <td>2021-11-19</td>\n",
       "      <td>Current advances in liquid-liquid mixing in st...</td>\n",
       "      <td>Chemical Engineering Research &amp; Design</td>\n",
       "      <td></td>\n",
       "      <td>Valdes, J.P., Kahouadji, L., and Matar, O.K.  ...</td>\n",
       "      <td>https://doi.org/10.1016/j.cherd.2021.11.016</td>\n",
       "      <td>NaN</td>\n",
       "    </tr>\n",
       "    <tr>\n",
       "      <th>6</th>\n",
       "      <td>2020-12-30</td>\n",
       "      <td>CFD modelling of the air conditioning system f...</td>\n",
       "      <td>Advances in Building Energy Research</td>\n",
       "      <td></td>\n",
       "      <td>Pico, P., Valdes, J.P., Pinilla, A., Echeverri...</td>\n",
       "      <td>https://doi.org/10.1080/17512549.2020.1860818</td>\n",
       "      <td>NaN</td>\n",
       "    </tr>\n",
       "    <tr>\n",
       "      <th>7</th>\n",
       "      <td>2020-12-07</td>\n",
       "      <td>Study of an ESP's performance handling liquid-...</td>\n",
       "      <td>Journal of Petroleum Science &amp; Engineering</td>\n",
       "      <td></td>\n",
       "      <td>Valdes, J.P., Asuaje, M., and Ratkovich, N.  (...</td>\n",
       "      <td>https://doi.org/10.1016/j.petrol.2020.108227</td>\n",
       "      <td>NaN</td>\n",
       "    </tr>\n",
       "    <tr>\n",
       "      <th>8</th>\n",
       "      <td>2020-08-28</td>\n",
       "      <td>Comparison of 63 different void fraction corre...</td>\n",
       "      <td>SN Applied Sciences</td>\n",
       "      <td></td>\n",
       "      <td>Marquez-Torres, L., Ochoa-Pineda, J., Pico, P....</td>\n",
       "      <td>https://doi.org/10.1007/s42452-020-03464-w</td>\n",
       "      <td>NaN</td>\n",
       "    </tr>\n",
       "    <tr>\n",
       "      <th>9</th>\n",
       "      <td>2020-05-12</td>\n",
       "      <td>CFD modelling of the hydrodynamics in a filtra...</td>\n",
       "      <td>Journal of Water Process Engineering</td>\n",
       "      <td></td>\n",
       "      <td>Pinilla, A., Berrio, J.C., Guerrero, E., Valde...</td>\n",
       "      <td>https://doi.org/10.1016/j.jwpe.2020.101368</td>\n",
       "      <td>NaN</td>\n",
       "    </tr>\n",
       "    <tr>\n",
       "      <th>10</th>\n",
       "      <td>2020-04-18</td>\n",
       "      <td>Study of an ESP's performance handling liquid-...</td>\n",
       "      <td>Chemical Engineering Science</td>\n",
       "      <td></td>\n",
       "      <td>Valdes, J.P., Asuaje, M., and Ratkovich, N.  (...</td>\n",
       "      <td>https://doi.org/10.1016/j.ces.2020.115726</td>\n",
       "      <td>NaN</td>\n",
       "    </tr>\n",
       "    <tr>\n",
       "      <th>11</th>\n",
       "      <td>2020-02-03</td>\n",
       "      <td>Evaluation of drift-velocity closure relations...</td>\n",
       "      <td>Chemical Engineering Science</td>\n",
       "      <td></td>\n",
       "      <td>Valdes, J.P., Pico, P., Pereyra, E., and Ratko...</td>\n",
       "      <td>https://doi.org/10.1016/j.ces.2020.115537</td>\n",
       "      <td>NaN</td>\n",
       "    </tr>\n",
       "    <tr>\n",
       "      <th>12</th>\n",
       "      <td>2019-11-27</td>\n",
       "      <td>Comparative analysis of an electrical submersi...</td>\n",
       "      <td>Journal of Petroleum Science &amp; Engineering</td>\n",
       "      <td></td>\n",
       "      <td>Valdes, J.P., Becerra, D., Rozo, D., Cediel, A...</td>\n",
       "      <td>https://doi.org/10.1016/j.petrol.2019.106749</td>\n",
       "      <td>NaN</td>\n",
       "    </tr>\n",
       "    <tr>\n",
       "      <th>13</th>\n",
       "      <td>2019-07-01</td>\n",
       "      <td>Phase Inversion Correlations Analysis for Oil-...</td>\n",
       "      <td>Industrial &amp; Engineering Chemistry Research</td>\n",
       "      <td></td>\n",
       "      <td>Prieto, L., Pinilla, A., Becerra, D., Pico, P....</td>\n",
       "      <td>https://doi.org/10.1021/acs.iecr.9b01773</td>\n",
       "      <td>NaN</td>\n",
       "    </tr>\n",
       "    <tr>\n",
       "      <th>14</th>\n",
       "      <td>2019-02-07</td>\n",
       "      <td>Applying PBL methodologies to the chemical eng...</td>\n",
       "      <td>Education for Chemical Engineers</td>\n",
       "      <td></td>\n",
       "      <td>Ballesteros, M.A., Daza, M.A., Valdes, J.P., R...</td>\n",
       "      <td>https://doi.org/10.1016/j.ece.2019.01.005</td>\n",
       "      <td>NaN</td>\n",
       "    </tr>\n",
       "    <tr>\n",
       "      <th>15</th>\n",
       "      <td>2018-10-01</td>\n",
       "      <td>Analysis of the Drift Flux in Two-Phase Gas-Li...</td>\n",
       "      <td>Journal of Fluid Flow, Heat and Mass Transfer</td>\n",
       "      <td></td>\n",
       "      <td>Pico, P., Valdes, J.P., Ratkovich, N., and Per...</td>\n",
       "      <td>https://doi.org/10.11159/jffhmt.2018.006</td>\n",
       "      <td>NaN</td>\n",
       "    </tr>\n",
       "  </tbody>\n",
       "</table>\n",
       "</div>"
      ],
      "text/plain": [
       "      pub_date                                              title  \\\n",
       "0   2023-09-16  On the dispersion dynamics of liquid-liquid su...   \n",
       "1   2023-03-09  Numerical Simulation of surfactant-laden emuls...   \n",
       "2   2023-03-05  Direct numerical simulations of liquid-liquid ...   \n",
       "3   2022-09-29  Numerical Study of oil-water emulsion formatio...   \n",
       "4   2022-08-22  The transition to aeration in turbulent two-ph...   \n",
       "5   2021-11-19  Current advances in liquid-liquid mixing in st...   \n",
       "6   2020-12-30  CFD modelling of the air conditioning system f...   \n",
       "7   2020-12-07  Study of an ESP's performance handling liquid-...   \n",
       "8   2020-08-28  Comparison of 63 different void fraction corre...   \n",
       "9   2020-05-12  CFD modelling of the hydrodynamics in a filtra...   \n",
       "10  2020-04-18  Study of an ESP's performance handling liquid-...   \n",
       "11  2020-02-03  Evaluation of drift-velocity closure relations...   \n",
       "12  2019-11-27  Comparative analysis of an electrical submersi...   \n",
       "13  2019-07-01  Phase Inversion Correlations Analysis for Oil-...   \n",
       "14  2019-02-07  Applying PBL methodologies to the chemical eng...   \n",
       "15  2018-10-01  Analysis of the Drift Flux in Two-Phase Gas-Li...   \n",
       "\n",
       "                                            venue excerpt  \\\n",
       "0                    Chemical Engineering Journal           \n",
       "1                    Chemical Engineering Journal           \n",
       "2                    Chemical Engineering Journal           \n",
       "3                                            Flow           \n",
       "4                                            Flow           \n",
       "5          Chemical Engineering Research & Design           \n",
       "6            Advances in Building Energy Research           \n",
       "7      Journal of Petroleum Science & Engineering           \n",
       "8                             SN Applied Sciences           \n",
       "9            Journal of Water Process Engineering           \n",
       "10                   Chemical Engineering Science           \n",
       "11                   Chemical Engineering Science           \n",
       "12     Journal of Petroleum Science & Engineering           \n",
       "13    Industrial & Engineering Chemistry Research           \n",
       "14               Education for Chemical Engineers           \n",
       "15  Journal of Fluid Flow, Heat and Mass Transfer           \n",
       "\n",
       "                                             citation  \\\n",
       "0   Valdes, J.P., Kahouadji, L., Liang, F., Shin, ...   \n",
       "1   Liang, F., Kahouadji, L., Valdes, J.P., Shin, ...   \n",
       "2   Valdes, J.P., Kahouadji, L., Liang, F., Shin, ...   \n",
       "3   Liang, F., Kahouadji, L., Valdes, J.P., Shin, ...   \n",
       "4   Kahouadji, L., Liang, F., Valdes, J.P., Shin, ...   \n",
       "5   Valdes, J.P., Kahouadji, L., and Matar, O.K.  ...   \n",
       "6   Pico, P., Valdes, J.P., Pinilla, A., Echeverri...   \n",
       "7   Valdes, J.P., Asuaje, M., and Ratkovich, N.  (...   \n",
       "8   Marquez-Torres, L., Ochoa-Pineda, J., Pico, P....   \n",
       "9   Pinilla, A., Berrio, J.C., Guerrero, E., Valde...   \n",
       "10  Valdes, J.P., Asuaje, M., and Ratkovich, N.  (...   \n",
       "11  Valdes, J.P., Pico, P., Pereyra, E., and Ratko...   \n",
       "12  Valdes, J.P., Becerra, D., Rozo, D., Cediel, A...   \n",
       "13  Prieto, L., Pinilla, A., Becerra, D., Pico, P....   \n",
       "14  Ballesteros, M.A., Daza, M.A., Valdes, J.P., R...   \n",
       "15  Pico, P., Valdes, J.P., Ratkovich, N., and Per...   \n",
       "\n",
       "                                         url_slug  paper_url  \n",
       "0       https://doi.org/10.1016/j.cej.2023.146058        NaN  \n",
       "1       https://doi.org/10.1016/j.cej.2023.144807        NaN  \n",
       "2       https://doi.org/10.1016/j.cej.2023.142248        NaN  \n",
       "3             https://doi.org/10.1017/flo.2022.27        NaN  \n",
       "4             https://doi.org/10.1017/flo.2022.24        NaN  \n",
       "5     https://doi.org/10.1016/j.cherd.2021.11.016        NaN  \n",
       "6   https://doi.org/10.1080/17512549.2020.1860818        NaN  \n",
       "7    https://doi.org/10.1016/j.petrol.2020.108227        NaN  \n",
       "8      https://doi.org/10.1007/s42452-020-03464-w        NaN  \n",
       "9      https://doi.org/10.1016/j.jwpe.2020.101368        NaN  \n",
       "10      https://doi.org/10.1016/j.ces.2020.115726        NaN  \n",
       "11      https://doi.org/10.1016/j.ces.2020.115537        NaN  \n",
       "12   https://doi.org/10.1016/j.petrol.2019.106749        NaN  \n",
       "13       https://doi.org/10.1021/acs.iecr.9b01773        NaN  \n",
       "14      https://doi.org/10.1016/j.ece.2019.01.005        NaN  \n",
       "15       https://doi.org/10.11159/jffhmt.2018.006        NaN  "
      ]
     },
     "execution_count": 7,
     "metadata": {},
     "output_type": "execute_result"
    }
   ],
   "source": [
    "publications = pd.read_csv(\"publications.tsv\", sep=\"\\t\", header=0)\n",
    "publications\n"
   ]
  },
  {
   "cell_type": "markdown",
   "metadata": {},
   "source": [
    "## Escape special characters\n",
    "\n",
    "YAML is very picky about how it takes a valid string, so we are replacing single and double quotes (and ampersands) with their HTML encoded equivilents. This makes them look not so readable in raw format, but they are parsed and rendered nicely."
   ]
  },
  {
   "cell_type": "code",
   "execution_count": 8,
   "metadata": {
    "collapsed": true,
    "deletable": true,
    "editable": true
   },
   "outputs": [],
   "source": [
    "html_escape_table = {\n",
    "    \"&\": \"&amp;\",\n",
    "    '\"': \"&quot;\",\n",
    "    \"'\": \"&apos;\"\n",
    "    }\n",
    "\n",
    "def html_escape(text):\n",
    "    \"\"\"Produce entities within text.\"\"\"\n",
    "    return \"\".join(html_escape_table.get(c,c) for c in text)"
   ]
  },
  {
   "cell_type": "markdown",
   "metadata": {},
   "source": [
    "## Creating the markdown files\n",
    "\n",
    "This is where the heavy lifting is done. This loops through all the rows in the TSV dataframe, then starts to concatentate a big string (```md```) that contains the markdown for each type. It does the YAML metadata first, then does the description for the individual page."
   ]
  },
  {
   "cell_type": "code",
   "execution_count": 9,
   "metadata": {
    "collapsed": false,
    "deletable": true,
    "editable": true
   },
   "outputs": [],
   "source": [
    "import os\n",
    "for row, item in publications.iterrows():\n",
    "    \n",
    "    md_filename = str(item.pub_date) + \"-\" + item.url_slug + \".md\"\n",
    "    html_filename = str(item.pub_date) + \"-\" + item.url_slug\n",
    "    year = item.pub_date[:4]\n",
    "    \n",
    "    ## YAML variables\n",
    "    \n",
    "    md = \"---\\ntitle: \\\"\"   + item.title + '\"\\n'\n",
    "    \n",
    "    md += \"\"\"collection: publications\"\"\"\n",
    "    \n",
    "    md += \"\"\"\\npermalink: /publication/\"\"\" + html_filename\n",
    "    \n",
    "    if len(str(item.excerpt)) > 5:\n",
    "        md += \"\\nexcerpt: '\" + html_escape(item.excerpt) + \"'\"\n",
    "    \n",
    "    md += \"\\ndate: \" + str(item.pub_date) \n",
    "    \n",
    "    md += \"\\nvenue: '\" + html_escape(item.venue) + \"'\"\n",
    "    \n",
    "    if len(str(item.paper_url)) > 5:\n",
    "        md += \"\\npaperurl: '\" + item.paper_url + \"'\"\n",
    "    \n",
    "    md += \"\\ncitation: '\" + html_escape(item.citation) + \"'\"\n",
    "    \n",
    "    md += \"\\n---\"\n",
    "    \n",
    "    ## Markdown description for individual page\n",
    "        \n",
    "    if len(str(item.excerpt)) > 5:\n",
    "        md += \"\\n\" + html_escape(item.excerpt) + \"\\n\"\n",
    "    \n",
    "    if len(str(item.paper_url)) > 5:\n",
    "        md += \"\\n[Download paper here](\" + item.paper_url + \")\\n\" \n",
    "        \n",
    "    md += \"\\nRecommended citation: \" + item.citation\n",
    "    \n",
    "    md_filename = os.path.basename(md_filename)\n",
    "       \n",
    "    with open(\"../_publications/\" + md_filename, 'w') as f:\n",
    "        f.write(md)"
   ]
  },
  {
   "cell_type": "markdown",
   "metadata": {},
   "source": [
    "These files are in the publications directory, one directory below where we're working from."
   ]
  },
  {
   "cell_type": "code",
   "execution_count": 10,
   "metadata": {
    "collapsed": false,
    "deletable": true,
    "editable": true
   },
   "outputs": [
    {
     "name": "stdout",
     "output_type": "stream",
     "text": [
      "17512549.2020.1860818.md j.cej.2023.146058.md     j.petrol.2019.106749.md\n",
      "acs.iecr.9b01773.md      j.ces.2020.115537.md     j.petrol.2020.108227.md\n",
      "flo.2022.24.md           j.ces.2020.115726.md     jffhmt.2018.006.md\n",
      "flo.2022.27.md           j.cherd.2021.11.016.md   s42452-020-03464-w.md\n",
      "j.cej.2023.142248.md     j.ece.2019.01.005.md\n",
      "j.cej.2023.144807.md     j.jwpe.2020.101368.md\n"
     ]
    }
   ],
   "source": [
    "!ls ../_publications/"
   ]
  },
  {
   "cell_type": "code",
   "execution_count": 11,
   "metadata": {
    "collapsed": false,
    "deletable": true,
    "editable": true
   },
   "outputs": [
    {
     "name": "stdout",
     "output_type": "stream",
     "text": [
      "cat: ../_publications/2009-10-01-paper-title-number-1.md: No such file or directory\n"
     ]
    }
   ],
   "source": [
    "!cat ../_publications/2009-10-01-paper-title-number-1.md"
   ]
  },
  {
   "cell_type": "code",
   "execution_count": null,
   "metadata": {
    "collapsed": true,
    "deletable": true,
    "editable": true
   },
   "outputs": [],
   "source": []
  }
 ],
 "metadata": {
  "kernelspec": {
   "display_name": "Python 3",
   "language": "python",
   "name": "python3"
  },
  "language_info": {
   "codemirror_mode": {
    "name": "ipython",
    "version": 3
   },
   "file_extension": ".py",
   "mimetype": "text/x-python",
   "name": "python",
   "nbconvert_exporter": "python",
   "pygments_lexer": "ipython3",
   "version": "3.9.13"
  }
 },
 "nbformat": 4,
 "nbformat_minor": 0
}
