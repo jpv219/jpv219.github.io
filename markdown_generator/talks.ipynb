{
 "cells": [
  {
   "cell_type": "markdown",
   "metadata": {
    "deletable": true,
    "editable": true
   },
   "source": [
    "# Talks markdown generator for academicpages\n",
    "\n",
    "Takes a TSV of talks with metadata and converts them for use with [academicpages.github.io](academicpages.github.io). This is an interactive Jupyter notebook ([see more info here](http://jupyter-notebook-beginner-guide.readthedocs.io/en/latest/what_is_jupyter.html)). The core python code is also in `talks.py`. Run either from the `markdown_generator` folder after replacing `talks.tsv` with one containing your data.\n",
    "\n",
    "TODO: Make this work with BibTex and other databases, rather than Stuart's non-standard TSV format and citation style."
   ]
  },
  {
   "cell_type": "code",
   "execution_count": 1,
   "metadata": {
    "collapsed": false,
    "deletable": true,
    "editable": true
   },
   "outputs": [],
   "source": [
    "import pandas as pd\n",
    "import os"
   ]
  },
  {
   "cell_type": "markdown",
   "metadata": {},
   "source": [
    "## Data format\n",
    "\n",
    "The TSV needs to have the following columns: title, type, url_slug, venue, date, location, talk_url, description, with a header at the top. Many of these fields can be blank, but the columns must be in the TSV.\n",
    "\n",
    "- Fields that cannot be blank: `title`, `url_slug`, `date`. All else can be blank. `type` defaults to \"Talk\" \n",
    "- `date` must be formatted as YYYY-MM-DD.\n",
    "- `url_slug` will be the descriptive part of the .md file and the permalink URL for the page about the paper. \n",
    "    - The .md file will be `YYYY-MM-DD-[url_slug].md` and the permalink will be `https://[yourdomain]/talks/YYYY-MM-DD-[url_slug]`\n",
    "    - The combination of `url_slug` and `date` must be unique, as it will be the basis for your filenames\n",
    "\n",
    "This is how the raw file looks (it doesn't look pretty, use a spreadsheet or other program to edit and create)."
   ]
  },
  {
   "cell_type": "code",
   "execution_count": 2,
   "metadata": {
    "collapsed": false
   },
   "outputs": [
    {
     "name": "stdout",
     "output_type": "stream",
     "text": [
      "title\ttype\turl_slug\tvenue\tdate\tlocation\ttalk_url\tdescription\n",
      "DNS and physics-informed surrogate models of surfactant-laden dispersed flows\tOral Presentation\ttalk-1\t\t2023-11-20\tWashington D.C., USA\t\t76th Annual Meeting of the American Physical Society (APS), Division of Fluid Dynamics (DFD)\n",
      "Direct Numerical Simulation of an Alternative SMX Element Orientation for Laminar Liquid-Liquid Mixing \tOral Presentation\ttalk-2\t\t2023-11-07\tOrlando, USA\t\t2023 AIChE Annual Meeting\n",
      "Direct numerical simulations of the dispersion dynamics of complex flows in static mixers with surfactants \tOral Presentation\ttalk-3\t\t2023-04-06\tKobe, Japan\t\tThe 11th International Conference on Multiphase Flow\n",
      "Direct numerical simulations of the dispersion dynamics of liquid-liquid surfactant-laden flows in static mixers \tOral Presentation\ttalk-4\t\t2022-11-21\tIndianapolis, US\t\t75th Annual Meeting of the American Physical Society (APS), Division of Fluid Dynamics (DFD)\n",
      "Convoluted interfaces in laminar dispersing jets \tPoster Presentation\tposter-1\t\t2022-11-21\tIndianapolis, US\t\t75th Annual Meeting of the American Physical Society (APS), Division of Fluid Dynamics (DFD), Gallery of Fluid Motion (GFM)\n",
      "On the dispersion dynamics of surfactant-laden liquid-liquid flows in static mixers \tOral Presentation\ttalk-5\t\t2022-11-15\tPhoenix, US\t\t2022 AIChE Annual Meeting\n",
      "Direct Numerical Simulation of the dispersion dynamics of complex flows in static mixers \tOral Presentation\ttalk-6\t\t2022-06-07\tOslo, Norway\t\t8th European Congress on Computational Methods in Applied Sciences and Engineering\n",
      "Towards Physics Informed Decision-making for Complex Mixing Processes \tPoster Presentation\tposter-2\t\t2022-03-07\tLondon, U.K\t\tParliamentary and Scientific Committee's STEM for BRITAIN 2022\n",
      "Direct numerical simulations of laminar droplet breakup in static mixers under different inlet conditions \tOral Presentation\ttalk-7\t\t2021-11-22\tPhoenix, US\t\t74th Annual Meeting of the American Physical Society (APS), Division of Fluid Dynamics (DFD)\n",
      "The journey of a drop in a static mixer \tPoster Presentation\tposter-3\t\t2021-11-22\tPhoenix, US\t\t74th Annual Meeting of the American Physical Society (APS), Division of Fluid Dynamics (DFD), Gallery of Fluid Motion (GFM)\n",
      "Comparative Analysis of an Electrical Submersible Pump's Performance Handling Viscous Newtonian and non-Newtonian Fluids through Experimental and CFD Appraoches\tOral Presentation\ttalk-8\t\t2019-05-20\tRio de Janeiro, Brazil\t\tThe 10th International Conference on Multiphase Flow\n",
      "Experimental and CFD modelling of the drift flux in two-phase air-(non)Newtonian slug-flow pattern flow along horizontal and inclined pipelines\tOral Presentation\ttalk-9\t\t2018-04-14\tBudapest, Hungary\t\t3rd World Congress on Momentum, Heat and Mass Transfer MHMT18"
     ]
    }
   ],
   "source": [
    "!cat talks.tsv"
   ]
  },
  {
   "cell_type": "markdown",
   "metadata": {},
   "source": [
    "## Import TSV\n",
    "\n",
    "Pandas makes this easy with the read_csv function. We are using a TSV, so we specify the separator as a tab, or `\\t`.\n",
    "\n",
    "I found it important to put this data in a tab-separated values format, because there are a lot of commas in this kind of data and comma-separated values can get messed up. However, you can modify the import statement, as pandas also has read_excel(), read_json(), and others."
   ]
  },
  {
   "cell_type": "code",
   "execution_count": 3,
   "metadata": {
    "collapsed": false,
    "deletable": true,
    "editable": true
   },
   "outputs": [
    {
     "data": {
      "text/html": [
       "<div>\n",
       "<style scoped>\n",
       "    .dataframe tbody tr th:only-of-type {\n",
       "        vertical-align: middle;\n",
       "    }\n",
       "\n",
       "    .dataframe tbody tr th {\n",
       "        vertical-align: top;\n",
       "    }\n",
       "\n",
       "    .dataframe thead th {\n",
       "        text-align: right;\n",
       "    }\n",
       "</style>\n",
       "<table border=\"1\" class=\"dataframe\">\n",
       "  <thead>\n",
       "    <tr style=\"text-align: right;\">\n",
       "      <th></th>\n",
       "      <th>title</th>\n",
       "      <th>type</th>\n",
       "      <th>url_slug</th>\n",
       "      <th>venue</th>\n",
       "      <th>date</th>\n",
       "      <th>location</th>\n",
       "      <th>talk_url</th>\n",
       "      <th>description</th>\n",
       "    </tr>\n",
       "  </thead>\n",
       "  <tbody>\n",
       "    <tr>\n",
       "      <th>0</th>\n",
       "      <td>DNS and physics-informed surrogate models of s...</td>\n",
       "      <td>Oral Presentation</td>\n",
       "      <td>talk-1</td>\n",
       "      <td>NaN</td>\n",
       "      <td>2023-11-20</td>\n",
       "      <td>Washington D.C., USA</td>\n",
       "      <td>NaN</td>\n",
       "      <td>76th Annual Meeting of the American Physical S...</td>\n",
       "    </tr>\n",
       "    <tr>\n",
       "      <th>1</th>\n",
       "      <td>Direct Numerical Simulation of an Alternative ...</td>\n",
       "      <td>Oral Presentation</td>\n",
       "      <td>talk-2</td>\n",
       "      <td>NaN</td>\n",
       "      <td>2023-11-07</td>\n",
       "      <td>Orlando, USA</td>\n",
       "      <td>NaN</td>\n",
       "      <td>2023 AIChE Annual Meeting</td>\n",
       "    </tr>\n",
       "    <tr>\n",
       "      <th>2</th>\n",
       "      <td>Direct numerical simulations of the dispersion...</td>\n",
       "      <td>Oral Presentation</td>\n",
       "      <td>talk-3</td>\n",
       "      <td>NaN</td>\n",
       "      <td>2023-04-06</td>\n",
       "      <td>Kobe, Japan</td>\n",
       "      <td>NaN</td>\n",
       "      <td>The 11th International Conference on Multiphas...</td>\n",
       "    </tr>\n",
       "    <tr>\n",
       "      <th>3</th>\n",
       "      <td>Direct numerical simulations of the dispersion...</td>\n",
       "      <td>Oral Presentation</td>\n",
       "      <td>talk-4</td>\n",
       "      <td>NaN</td>\n",
       "      <td>2022-11-21</td>\n",
       "      <td>Indianapolis, US</td>\n",
       "      <td>NaN</td>\n",
       "      <td>75th Annual Meeting of the American Physical S...</td>\n",
       "    </tr>\n",
       "    <tr>\n",
       "      <th>4</th>\n",
       "      <td>Convoluted interfaces in laminar dispersing jets</td>\n",
       "      <td>Poster Presentation</td>\n",
       "      <td>poster-1</td>\n",
       "      <td>NaN</td>\n",
       "      <td>2022-11-21</td>\n",
       "      <td>Indianapolis, US</td>\n",
       "      <td>NaN</td>\n",
       "      <td>75th Annual Meeting of the American Physical S...</td>\n",
       "    </tr>\n",
       "    <tr>\n",
       "      <th>5</th>\n",
       "      <td>On the dispersion dynamics of surfactant-laden...</td>\n",
       "      <td>Oral Presentation</td>\n",
       "      <td>talk-5</td>\n",
       "      <td>NaN</td>\n",
       "      <td>2022-11-15</td>\n",
       "      <td>Phoenix, US</td>\n",
       "      <td>NaN</td>\n",
       "      <td>2022 AIChE Annual Meeting</td>\n",
       "    </tr>\n",
       "    <tr>\n",
       "      <th>6</th>\n",
       "      <td>Direct Numerical Simulation of the dispersion ...</td>\n",
       "      <td>Oral Presentation</td>\n",
       "      <td>talk-6</td>\n",
       "      <td>NaN</td>\n",
       "      <td>2022-06-07</td>\n",
       "      <td>Oslo, Norway</td>\n",
       "      <td>NaN</td>\n",
       "      <td>8th European Congress on Computational Methods...</td>\n",
       "    </tr>\n",
       "    <tr>\n",
       "      <th>7</th>\n",
       "      <td>Towards Physics Informed Decision-making for C...</td>\n",
       "      <td>Poster Presentation</td>\n",
       "      <td>poster-2</td>\n",
       "      <td>NaN</td>\n",
       "      <td>2022-03-07</td>\n",
       "      <td>London, U.K</td>\n",
       "      <td>NaN</td>\n",
       "      <td>Parliamentary and Scientific Committee's STEM ...</td>\n",
       "    </tr>\n",
       "    <tr>\n",
       "      <th>8</th>\n",
       "      <td>Direct numerical simulations of laminar drople...</td>\n",
       "      <td>Oral Presentation</td>\n",
       "      <td>talk-7</td>\n",
       "      <td>NaN</td>\n",
       "      <td>2021-11-22</td>\n",
       "      <td>Phoenix, US</td>\n",
       "      <td>NaN</td>\n",
       "      <td>74th Annual Meeting of the American Physical S...</td>\n",
       "    </tr>\n",
       "    <tr>\n",
       "      <th>9</th>\n",
       "      <td>The journey of a drop in a static mixer</td>\n",
       "      <td>Poster Presentation</td>\n",
       "      <td>poster-3</td>\n",
       "      <td>NaN</td>\n",
       "      <td>2021-11-22</td>\n",
       "      <td>Phoenix, US</td>\n",
       "      <td>NaN</td>\n",
       "      <td>74th Annual Meeting of the American Physical S...</td>\n",
       "    </tr>\n",
       "    <tr>\n",
       "      <th>10</th>\n",
       "      <td>Comparative Analysis of an Electrical Submersi...</td>\n",
       "      <td>Oral Presentation</td>\n",
       "      <td>talk-8</td>\n",
       "      <td>NaN</td>\n",
       "      <td>2019-05-20</td>\n",
       "      <td>Rio de Janeiro, Brazil</td>\n",
       "      <td>NaN</td>\n",
       "      <td>The 10th International Conference on Multiphas...</td>\n",
       "    </tr>\n",
       "    <tr>\n",
       "      <th>11</th>\n",
       "      <td>Experimental and CFD modelling of the drift fl...</td>\n",
       "      <td>Oral Presentation</td>\n",
       "      <td>talk-9</td>\n",
       "      <td>NaN</td>\n",
       "      <td>2018-04-14</td>\n",
       "      <td>Budapest, Hungary</td>\n",
       "      <td>NaN</td>\n",
       "      <td>3rd World Congress on Momentum, Heat and Mass ...</td>\n",
       "    </tr>\n",
       "  </tbody>\n",
       "</table>\n",
       "</div>"
      ],
      "text/plain": [
       "                                                title                 type  \\\n",
       "0   DNS and physics-informed surrogate models of s...    Oral Presentation   \n",
       "1   Direct Numerical Simulation of an Alternative ...    Oral Presentation   \n",
       "2   Direct numerical simulations of the dispersion...    Oral Presentation   \n",
       "3   Direct numerical simulations of the dispersion...    Oral Presentation   \n",
       "4   Convoluted interfaces in laminar dispersing jets   Poster Presentation   \n",
       "5   On the dispersion dynamics of surfactant-laden...    Oral Presentation   \n",
       "6   Direct Numerical Simulation of the dispersion ...    Oral Presentation   \n",
       "7   Towards Physics Informed Decision-making for C...  Poster Presentation   \n",
       "8   Direct numerical simulations of laminar drople...    Oral Presentation   \n",
       "9            The journey of a drop in a static mixer   Poster Presentation   \n",
       "10  Comparative Analysis of an Electrical Submersi...    Oral Presentation   \n",
       "11  Experimental and CFD modelling of the drift fl...    Oral Presentation   \n",
       "\n",
       "    url_slug  venue        date                location  talk_url  \\\n",
       "0     talk-1    NaN  2023-11-20    Washington D.C., USA       NaN   \n",
       "1     talk-2    NaN  2023-11-07            Orlando, USA       NaN   \n",
       "2     talk-3    NaN  2023-04-06             Kobe, Japan       NaN   \n",
       "3     talk-4    NaN  2022-11-21        Indianapolis, US       NaN   \n",
       "4   poster-1    NaN  2022-11-21        Indianapolis, US       NaN   \n",
       "5     talk-5    NaN  2022-11-15             Phoenix, US       NaN   \n",
       "6     talk-6    NaN  2022-06-07            Oslo, Norway       NaN   \n",
       "7   poster-2    NaN  2022-03-07             London, U.K       NaN   \n",
       "8     talk-7    NaN  2021-11-22             Phoenix, US       NaN   \n",
       "9   poster-3    NaN  2021-11-22             Phoenix, US       NaN   \n",
       "10    talk-8    NaN  2019-05-20  Rio de Janeiro, Brazil       NaN   \n",
       "11    talk-9    NaN  2018-04-14       Budapest, Hungary       NaN   \n",
       "\n",
       "                                          description  \n",
       "0   76th Annual Meeting of the American Physical S...  \n",
       "1                           2023 AIChE Annual Meeting  \n",
       "2   The 11th International Conference on Multiphas...  \n",
       "3   75th Annual Meeting of the American Physical S...  \n",
       "4   75th Annual Meeting of the American Physical S...  \n",
       "5                           2022 AIChE Annual Meeting  \n",
       "6   8th European Congress on Computational Methods...  \n",
       "7   Parliamentary and Scientific Committee's STEM ...  \n",
       "8   74th Annual Meeting of the American Physical S...  \n",
       "9   74th Annual Meeting of the American Physical S...  \n",
       "10  The 10th International Conference on Multiphas...  \n",
       "11  3rd World Congress on Momentum, Heat and Mass ...  "
      ]
     },
     "execution_count": 3,
     "metadata": {},
     "output_type": "execute_result"
    }
   ],
   "source": [
    "talks = pd.read_csv(\"talks.tsv\", sep=\"\\t\", header=0)\n",
    "talks"
   ]
  },
  {
   "cell_type": "markdown",
   "metadata": {},
   "source": [
    "## Escape special characters\n",
    "\n",
    "YAML is very picky about how it takes a valid string, so we are replacing single and double quotes (and ampersands) with their HTML encoded equivilents. This makes them look not so readable in raw format, but they are parsed and rendered nicely."
   ]
  },
  {
   "cell_type": "code",
   "execution_count": 4,
   "metadata": {
    "collapsed": false,
    "deletable": true,
    "editable": true
   },
   "outputs": [],
   "source": [
    "html_escape_table = {\n",
    "    \"&\": \"&amp;\",\n",
    "    '\"': \"&quot;\",\n",
    "    \"'\": \"&apos;\"\n",
    "    }\n",
    "\n",
    "def html_escape(text):\n",
    "    if type(text) is str:\n",
    "        return \"\".join(html_escape_table.get(c,c) for c in text)\n",
    "    else:\n",
    "        return \"False\""
   ]
  },
  {
   "cell_type": "markdown",
   "metadata": {},
   "source": [
    "## Creating the markdown files\n",
    "\n",
    "This is where the heavy lifting is done. This loops through all the rows in the TSV dataframe, then starts to concatentate a big string (```md```) that contains the markdown for each type. It does the YAML metadata first, then does the description for the individual page."
   ]
  },
  {
   "cell_type": "code",
   "execution_count": 5,
   "metadata": {
    "collapsed": false,
    "deletable": true,
    "editable": true
   },
   "outputs": [],
   "source": [
    "loc_dict = {}\n",
    "\n",
    "for row, item in talks.iterrows():\n",
    "    \n",
    "    md_filename = str(item.date) + \"-\" + item.url_slug + \".md\"\n",
    "    html_filename = str(item.date) + \"-\" + item.url_slug \n",
    "    year = item.date[:4]\n",
    "    \n",
    "    md = \"---\\ntitle: \\\"\"   + item.title + '\"\\n'\n",
    "    md += \"collection: talks\" + \"\\n\"\n",
    "    \n",
    "    if len(str(item.type)) > 3:\n",
    "        md += 'type: \"' + item.type + '\"\\n'\n",
    "    else:\n",
    "        md += 'type: \"Talk\"\\n'\n",
    "    \n",
    "    md += \"permalink: /talks/\" + html_filename + \"\\n\"\n",
    "    \n",
    "    if len(str(item.venue)) > 3:\n",
    "        md += 'venue: \"' + item.venue + '\"\\n'\n",
    "        \n",
    "    if len(str(item.location)) > 3:\n",
    "        md += \"date: \" + str(item.date) + \"\\n\"\n",
    "    \n",
    "    if len(str(item.location)) > 3:\n",
    "        md += 'location: \"' + str(item.location) + '\"\\n'\n",
    "           \n",
    "    md += \"---\\n\"\n",
    "    \n",
    "    \n",
    "    if len(str(item.talk_url)) > 3:\n",
    "        md += \"\\n[More information here](\" + item.talk_url + \")\\n\" \n",
    "        \n",
    "    \n",
    "    if len(str(item.description)) > 3:\n",
    "        md += \"\\n\" + html_escape(item.description) + \"\\n\"\n",
    "        \n",
    "        \n",
    "    md_filename = os.path.basename(md_filename)\n",
    "    #print(md)\n",
    "    \n",
    "    with open(\"../_talks/\" + md_filename, 'w') as f:\n",
    "        f.write(md)"
   ]
  },
  {
   "cell_type": "markdown",
   "metadata": {},
   "source": [
    "These files are in the talks directory, one directory below where we're working from."
   ]
  },
  {
   "cell_type": "code",
   "execution_count": 6,
   "metadata": {
    "collapsed": false,
    "deletable": true,
    "editable": true
   },
   "outputs": [
    {
     "name": "stdout",
     "output_type": "stream",
     "text": [
      "2018-04-14-talk-9.md   2022-06-07-talk-6.md   2023-11-07-talk-2.md\n",
      "2019-05-20-talk-8.md   2022-11-15-talk-5.md   2023-11-20-talk-1.md\n",
      "2021-11-22-poster-3.md 2022-11-21-poster-1.md talkmap.ipynb\n",
      "2021-11-22-talk-7.md   2022-11-21-talk-4.md\n",
      "2022-03-07-poster-2.md 2023-04-06-talk-3.md\n"
     ]
    }
   ],
   "source": [
    "!ls ../_talks"
   ]
  },
  {
   "cell_type": "code",
   "execution_count": 7,
   "metadata": {
    "collapsed": false,
    "deletable": true,
    "editable": true
   },
   "outputs": [
    {
     "name": "stdout",
     "output_type": "stream",
     "text": [
      "cat: ../_talks/2013-03-01-tutorial-1.md: No such file or directory\n"
     ]
    }
   ],
   "source": [
    "!cat ../_talks/2013-03-01-tutorial-1.md"
   ]
  },
  {
   "cell_type": "code",
   "execution_count": null,
   "metadata": {},
   "outputs": [],
   "source": []
  }
 ],
 "metadata": {
  "kernelspec": {
   "display_name": "Python 3",
   "language": "python",
   "name": "python3"
  },
  "language_info": {
   "codemirror_mode": {
    "name": "ipython",
    "version": 3
   },
   "file_extension": ".py",
   "mimetype": "text/x-python",
   "name": "python",
   "nbconvert_exporter": "python",
   "pygments_lexer": "ipython3",
   "version": "3.9.13"
  }
 },
 "nbformat": 4,
 "nbformat_minor": 0
}
